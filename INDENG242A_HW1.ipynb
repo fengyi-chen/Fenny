{
 "cells": [
  {
   "cell_type": "markdown",
   "id": "2ff1a232",
   "metadata": {},
   "source": [
    "**Problem 2**"
   ]
  },
  {
   "cell_type": "code",
   "execution_count": 1,
   "id": "6790f454",
   "metadata": {},
   "outputs": [],
   "source": [
    "# import the necessary packages\n",
    "import numpy as np\n",
    "import pandas as pd\n",
    "import matplotlib as plt\n",
    "import seaborn as sns\n",
    "import statsmodels.api as sm\n",
    "import statsmodels.formula.api as smf\n",
    "from statsmodels.stats.outliers_influence import variance_inflation_factor\n",
    "\n",
    "%matplotlib inline"
   ]
  },
  {
   "cell_type": "code",
   "execution_count": 2,
   "id": "5b5c6f26",
   "metadata": {},
   "outputs": [],
   "source": [
    "# input the Honda Accord dataset\n",
    "accord = pd.read_csv('Accord-242A-Spring24.csv')"
   ]
  },
  {
   "cell_type": "markdown",
   "id": "8fbc9bab",
   "metadata": {},
   "source": [
    "**a)**"
   ]
  },
  {
   "cell_type": "code",
   "execution_count": 3,
   "id": "533654bc",
   "metadata": {},
   "outputs": [
    {
     "data": {
      "text/plain": [
       "(60, 59)"
      ]
     },
     "execution_count": 3,
     "metadata": {},
     "output_type": "execute_result"
    }
   ],
   "source": [
    "#split the training and testing dataset; cutoff point is 2018\n",
    "accord_train = accord[accord['Year'] <= 2018]\n",
    "accord_test = accord[accord['Year'] > 2018]\n",
    "\n",
    "len(accord_train), len(accord_test)"
   ]
  },
  {
   "cell_type": "code",
   "execution_count": 4,
   "id": "f3078e78",
   "metadata": {
    "scrolled": false
   },
   "outputs": [
    {
     "name": "stdout",
     "output_type": "stream",
     "text": [
      "                            OLS Regression Results                            \n",
      "==============================================================================\n",
      "Dep. Variable:            AccordSales   R-squared:                       0.254\n",
      "Model:                            OLS   Adj. R-squared:                  0.185\n",
      "Method:                 Least Squares   F-statistic:                     3.683\n",
      "Date:                Mon, 12 Feb 2024   Prob (F-statistic):            0.00612\n",
      "Time:                        15:27:30   Log-Likelihood:                -595.60\n",
      "No. Observations:                  60   AIC:                             1203.\n",
      "Df Residuals:                      54   BIC:                             1216.\n",
      "Df Model:                           5                                         \n",
      "Covariance Type:            nonrobust                                         \n",
      "=================================================================================\n",
      "                    coef    std err          t      P>|t|      [0.025      0.975]\n",
      "---------------------------------------------------------------------------------\n",
      "const          1.735e+05   1.49e+05      1.164      0.249   -1.25e+05    4.72e+05\n",
      "Unemployment  -1833.6589   4680.041     -0.392      0.697   -1.12e+04    7549.259\n",
      "AccordQueries   225.2323    113.727      1.980      0.053      -2.776     453.240\n",
      "CPIAll        -1443.0327    807.855     -1.786      0.080   -3062.685     176.620\n",
      "CPIEnergy       192.5350    120.986      1.591      0.117     -50.028     435.098\n",
      "MilesTraveled     0.5860      0.417      1.406      0.165      -0.249       1.421\n",
      "==============================================================================\n",
      "Omnibus:                        7.924   Durbin-Watson:                   1.479\n",
      "Prob(Omnibus):                  0.019   Jarque-Bera (JB):                8.969\n",
      "Skew:                           0.534   Prob(JB):                       0.0113\n",
      "Kurtosis:                       4.565   Cond. No.                     5.81e+07\n",
      "==============================================================================\n",
      "\n",
      "Notes:\n",
      "[1] Standard Errors assume that the covariance matrix of the errors is correctly specified.\n",
      "[2] The condition number is large, 5.81e+07. This might indicate that there are\n",
      "strong multicollinearity or other numerical problems.\n"
     ]
    },
    {
     "data": {
      "text/plain": [
       "Unemployment     31.683094\n",
       "AccordQueries     1.939028\n",
       "CPIAll           45.304922\n",
       "CPIEnergy        12.340357\n",
       "MilesTraveled    18.510210\n",
       "dtype: float64"
      ]
     },
     "execution_count": 4,
     "metadata": {},
     "output_type": "execute_result"
    }
   ],
   "source": [
    "# Choose the features to be used\n",
    "cols_1 = ['Unemployment', 'AccordQueries', 'CPIAll', 'CPIEnergy', 'MilesTraveled']\n",
    "X_train_1 = accord_train[cols_1]\n",
    "y_train = accord_train['AccordSales']\n",
    "\n",
    "# Add an intercept\n",
    "X_train_1 = sm.add_constant(X_train_1)\n",
    "\n",
    "# Fit the data to the model\n",
    "model_1 = sm.OLS(y_train, X_train_1).fit() #ordinary least square\n",
    "print(model_1.summary())\n",
    "\n",
    "# Calculate Variance Inflation Factor for each explanatory variable\n",
    "def VIF(df, columns):\n",
    "    values = sm.add_constant(df[columns]).values\n",
    "    num_columns = len(columns)+1\n",
    "    vif = [variance_inflation_factor(values, i) for i in range(num_columns)]\n",
    "    return pd.Series(vif[1:], index=columns)\n",
    "\n",
    "VIF(X_train_1, cols_1)"
   ]
  },
  {
   "cell_type": "code",
   "execution_count": 5,
   "id": "f44076fd",
   "metadata": {},
   "outputs": [
    {
     "name": "stdout",
     "output_type": "stream",
     "text": [
      "                            OLS Regression Results                            \n",
      "==============================================================================\n",
      "Dep. Variable:            AccordSales   R-squared:                       0.252\n",
      "Model:                            OLS   Adj. R-squared:                  0.198\n",
      "Method:                 Least Squares   F-statistic:                     4.636\n",
      "Date:                Mon, 12 Feb 2024   Prob (F-statistic):            0.00269\n",
      "Time:                        15:27:30   Log-Likelihood:                -595.69\n",
      "No. Observations:                  60   AIC:                             1201.\n",
      "Df Residuals:                      55   BIC:                             1212.\n",
      "Df Model:                           4                                         \n",
      "Covariance Type:            nonrobust                                         \n",
      "=================================================================================\n",
      "                    coef    std err          t      P>|t|      [0.025      0.975]\n",
      "---------------------------------------------------------------------------------\n",
      "const          1.171e+05    3.8e+04      3.084      0.003     4.1e+04    1.93e+05\n",
      "AccordQueries   229.7962    112.255      2.047      0.045       4.833     454.759\n",
      "CPIAll        -1180.1984    446.651     -2.642      0.011   -2075.308    -285.089\n",
      "CPIEnergy       155.0753     73.567      2.108      0.040       7.643     302.507\n",
      "MilesTraveled     0.5533      0.405      1.366      0.178      -0.259       1.365\n",
      "==============================================================================\n",
      "Omnibus:                        8.016   Durbin-Watson:                   1.465\n",
      "Prob(Omnibus):                  0.018   Jarque-Bera (JB):                9.143\n",
      "Skew:                           0.537   Prob(JB):                       0.0103\n",
      "Kurtosis:                       4.583   Cond. No.                     1.49e+07\n",
      "==============================================================================\n",
      "\n",
      "Notes:\n",
      "[1] Standard Errors assume that the covariance matrix of the errors is correctly specified.\n",
      "[2] The condition number is large, 1.49e+07. This might indicate that there are\n",
      "strong multicollinearity or other numerical problems.\n"
     ]
    },
    {
     "data": {
      "text/plain": [
       "AccordQueries     1.918686\n",
       "CPIAll           14.065391\n",
       "CPIEnergy         4.634036\n",
       "MilesTraveled    17.765021\n",
       "dtype: float64"
      ]
     },
     "execution_count": 5,
     "metadata": {},
     "output_type": "execute_result"
    }
   ],
   "source": [
    "# Choose the features to be used\n",
    "cols_2 = ['AccordQueries', 'CPIAll', 'CPIEnergy', 'MilesTraveled']\n",
    "X_train_2 = accord_train[cols_2]\n",
    "y_train = accord_train['AccordSales']\n",
    "\n",
    "# Add an intercept\n",
    "X_train_2 = sm.add_constant(X_train_2)\n",
    "\n",
    "# Fit the data to the model\n",
    "model_2 = sm.OLS(y_train, X_train_2).fit() #ordinary least square\n",
    "print(model_2.summary())\n",
    "\n",
    "# calculate Variance Inflation Factor for each explanatory variable\n",
    "VIF(X_train_2, cols_2)"
   ]
  },
  {
   "cell_type": "code",
   "execution_count": 6,
   "id": "11743217",
   "metadata": {},
   "outputs": [
    {
     "name": "stdout",
     "output_type": "stream",
     "text": [
      "                            OLS Regression Results                            \n",
      "==============================================================================\n",
      "Dep. Variable:            AccordSales   R-squared:                       0.227\n",
      "Model:                            OLS   Adj. R-squared:                  0.185\n",
      "Method:                 Least Squares   F-statistic:                     5.475\n",
      "Date:                Mon, 12 Feb 2024   Prob (F-statistic):            0.00227\n",
      "Time:                        15:27:30   Log-Likelihood:                -596.69\n",
      "No. Observations:                  60   AIC:                             1201.\n",
      "Df Residuals:                      56   BIC:                             1210.\n",
      "Df Model:                           3                                         \n",
      "Covariance Type:            nonrobust                                         \n",
      "=================================================================================\n",
      "                    coef    std err          t      P>|t|      [0.025      0.975]\n",
      "---------------------------------------------------------------------------------\n",
      "const          1.419e+05   3.36e+04      4.224      0.000    7.46e+04    2.09e+05\n",
      "AccordQueries   245.2054    112.546      2.179      0.034      19.749     470.662\n",
      "CPIAll         -610.9156    161.762     -3.777      0.000    -934.963    -286.868\n",
      "CPIEnergy        67.0291     35.720      1.877      0.066      -4.527     138.585\n",
      "==============================================================================\n",
      "Omnibus:                        8.025   Durbin-Watson:                   1.390\n",
      "Prob(Omnibus):                  0.018   Jarque-Bera (JB):                9.328\n",
      "Skew:                           0.526   Prob(JB):                      0.00943\n",
      "Kurtosis:                       4.620   Cond. No.                     1.66e+04\n",
      "==============================================================================\n",
      "\n",
      "Notes:\n",
      "[1] Standard Errors assume that the covariance matrix of the errors is correctly specified.\n",
      "[2] The condition number is large, 1.66e+04. This might indicate that there are\n",
      "strong multicollinearity or other numerical problems.\n"
     ]
    },
    {
     "data": {
      "text/plain": [
       "AccordQueries    1.899305\n",
       "CPIAll           1.816792\n",
       "CPIEnergy        1.075859\n",
       "dtype: float64"
      ]
     },
     "execution_count": 6,
     "metadata": {},
     "output_type": "execute_result"
    }
   ],
   "source": [
    "# Choose the features to be used\n",
    "cols_3 = ['AccordQueries', 'CPIAll', 'CPIEnergy']\n",
    "X_train_3 = accord_train[cols_3]\n",
    "y_train = accord_train['AccordSales']\n",
    "\n",
    "# Add an intercept\n",
    "X_train_3 = sm.add_constant(X_train_3)\n",
    "\n",
    "# Fit the data to the model\n",
    "model_3 = sm.OLS(y_train, X_train_3).fit() #ordinary least square\n",
    "print(model_3.summary())\n",
    "\n",
    "# calculate Variance Inflation Factor for each explanatory variable\n",
    "VIF(X_train_3, cols_3)"
   ]
  },
  {
   "cell_type": "markdown",
   "id": "a7e0644f",
   "metadata": {},
   "source": [
    "**(i)**\n",
    "\n",
    "The linear regression equation (approximated to two decimal places) produced by the final selected model is monthly AccordSales = 141,900.00 + 245.21* AccordQueries - 610.92* CPIAll + 67.03* CPIEnergy in the US. The monthly Accord sales is 141,900 in the US if all the independent varibales are zero. One more Accord query on Google holding all other features constant will lead to approximately 245 more sales of Accord in a given month. A unit increase in the consumer price index for all products holding all other features constant will lead to approximately 610 fewer sales of Accord in a given month. A unit increase in the consumer price index for the energy sector holding all other features constant will lead to approximately 67 more sales of Accord in a given month. "
   ]
  },
  {
   "cell_type": "markdown",
   "id": "8e087554",
   "metadata": {},
   "source": [
    "**ii)**\n",
    "\n",
    "model_1 includes all five features, Unemployment, AccordQueries， CPIAll, CPIEnergy, and MilesTraveled. Except AccordQueries, all other four features have VIF higher than 5. Given Unemployment has the highest p-value around 0.7, I decided to remove Unemployment in model_2 and see if the model performance improves.\n",
    "\n",
    "model_2 includes AccordQueries, CPIAll, CPIEnergy, and MilesTraveled. CPIAll and MilesTraveled have VIF higher than 5. Given MilesTraveled is the only feature that has the p-value higer than 0.05, I decided to remove MilesTraveled in model_3 and see if the model performance improves. Comparing to model_1, model_2 has higher adjusted R-squared at 0.198 vs 0.185.\n",
    "\n",
    "model_3 includes AccordQueries, CPIAll, and CPIEnergy. All the VIFs are lower than 5. Although CPIEnergy has the p-value slightly higer than 0.05, I decided to retain it. Comparing to model_2, although model_3 has lower adjusted R-squared at 0.185 vs 0.198, I decided to choose model_3 as the final selected model given reasonable values of VIF, p-value, and adjusted R-suqared comparatively."
   ]
  },
  {
   "cell_type": "markdown",
   "id": "da64aed6",
   "metadata": {},
   "source": [
    "**iii)**\n",
    "\n",
    "The number of Accord Queries and the consumer price index for the energy sector in the US have a positive impact on the sales when these two independent variables increase. It makes sense as a higher number of Accord Queries in the US indicates there is a higher interest particularly in Accord. However, the reasoning is unclear that the consumer price index for the energy sector has a positive impact. From commen sense, if the gasoline price goes up, which is included in the consumer price index for the energy sector, consumers should demand less gas-powered vehicles but are more likely to switch to electric vehicles. Accord has both gas-powered version and hybrid-electric version and the decomposition of these two versions are not available from the dataset.\n",
    "\n",
    "On the other hand, the consumer price index for all products has a negative impact on the sales when the independent varibales increases. It makes sense as a higher consumer price index for all products (i.e., inflation) usually indicates an economic recession. Consequently, consumers have less real disposable income and they are less likely to buy Accord and any other goods and services."
   ]
  },
  {
   "cell_type": "markdown",
   "id": "8bce5b33",
   "metadata": {},
   "source": [
    "**iv)**\n",
    "\n",
    "The model performance is very poor given the R-squared is only 0.227 and the adjusted R-squared is only 0.185."
   ]
  },
  {
   "cell_type": "markdown",
   "id": "d7985cac",
   "metadata": {},
   "source": [
    "**b)**"
   ]
  },
  {
   "cell_type": "code",
   "execution_count": 7,
   "id": "1a7c74be",
   "metadata": {},
   "outputs": [
    {
     "name": "stdout",
     "output_type": "stream",
     "text": [
      "                            OLS Regression Results                            \n",
      "==============================================================================\n",
      "Dep. Variable:            AccordSales   R-squared:                       0.748\n",
      "Model:                            OLS   Adj. R-squared:                  0.654\n",
      "Method:                 Least Squares   F-statistic:                     7.982\n",
      "Date:                Mon, 12 Feb 2024   Prob (F-statistic):           2.66e-08\n",
      "Time:                        15:27:30   Log-Likelihood:                -563.04\n",
      "No. Observations:                  60   AIC:                             1160.\n",
      "Df Residuals:                      43   BIC:                             1196.\n",
      "Df Model:                          16                                         \n",
      "Covariance Type:            nonrobust                                         \n",
      "============================================================================================\n",
      "                               coef    std err          t      P>|t|      [0.025      0.975]\n",
      "--------------------------------------------------------------------------------------------\n",
      "Intercept                 9.775e+04      1e+05      0.977      0.334   -1.04e+05       3e+05\n",
      "MonthFactor[T.August]     8697.6749   2713.554      3.205      0.003    3225.272    1.42e+04\n",
      "MonthFactor[T.December]   3256.3031   2372.470      1.373      0.177   -1528.240    8040.846\n",
      "MonthFactor[T.February]  -4825.4928   2587.989     -1.865      0.069      -1e+04     393.684\n",
      "MonthFactor[T.January]   -8189.7564   2380.860     -3.440      0.001    -1.3e+04   -3388.294\n",
      "MonthFactor[T.July]       3894.8622   2823.701      1.379      0.175   -1799.674    9589.398\n",
      "MonthFactor[T.June]       1536.5375   2480.984      0.619      0.539   -3466.843    6539.918\n",
      "MonthFactor[T.March]       430.1538   2582.819      0.167      0.869   -4778.598    5638.906\n",
      "MonthFactor[T.May]        5573.2245   2463.065      2.263      0.029     605.980    1.05e+04\n",
      "MonthFactor[T.November]  -1493.6532   2471.136     -0.604      0.549   -6477.174    3489.867\n",
      "MonthFactor[T.October]     -25.6309   2305.022     -0.011      0.991   -4674.151    4622.889\n",
      "MonthFactor[T.September]  3046.1712   2378.322      1.281      0.207   -1750.173    7842.515\n",
      "AccordQueries               10.6620    144.801      0.074      0.942    -281.357     302.681\n",
      "Unemployment               762.8155   3257.607      0.234      0.816   -5806.776    7332.407\n",
      "CPIAll                    -639.8070    627.629     -1.019      0.314   -1905.542     625.928\n",
      "CPIEnergy                   67.5163     95.714      0.705      0.484    -125.508     260.541\n",
      "MilesTraveled                0.2497      0.388      0.643      0.524      -0.533       1.033\n",
      "==============================================================================\n",
      "Omnibus:                       11.344   Durbin-Watson:                   1.509\n",
      "Prob(Omnibus):                  0.003   Jarque-Bera (JB):               19.675\n",
      "Skew:                           0.549   Prob(JB):                     5.34e-05\n",
      "Kurtosis:                       5.582   Cond. No.                     5.99e+07\n",
      "==============================================================================\n",
      "\n",
      "Notes:\n",
      "[1] Standard Errors assume that the covariance matrix of the errors is correctly specified.\n",
      "[2] The condition number is large, 5.99e+07. This might indicate that there are\n",
      "strong multicollinearity or other numerical problems.\n"
     ]
    }
   ],
   "source": [
    "# Fit the data to the model\n",
    "model_4 = smf.ols(formula='AccordSales ~ MonthFactor + AccordQueries + Unemployment + CPIAll + CPIEnergy + MilesTraveled', \n",
    "                  data=accord_train).fit() #ordinary least square\n",
    "print(model_4.summary())"
   ]
  },
  {
   "cell_type": "markdown",
   "id": "e8966096",
   "metadata": {},
   "source": [
    "**i)**\n",
    "\n",
    "The linear regression equation (approximated to two decimal places) produced by the final selected model is monthly AccordSales = 97,750 + 8697.67* [if it is August] + 3256.30* [if it is December] - 4825.49* [if it is February] - 8189.76* [if it is January] + 3894.86* [if it is July] +1536.54* [if it is June] + 430.15* [if it is March] + 5573.22* [if it is May] - 1493.65* [if it is November] - 25.63* [if it is October] + 3046.17* [if it is September] + 762.82* Unemployment + 10.66* AccordQueries - 639.81* CPIAll + 67.52* CPIEnergy + 0.25* MilesTraveled. \n",
    "\n",
    "The monthly AccordSales in April is 97,750 if all other features are zero.\n",
    "\n",
    "The coefficient of each of the MonthFactor dummy varibale is the monthly AccordSales difference comparing to the month of April holding all other features constant. For example, if it is August, the August dummy varibale is 1 and all other MonthFactor dummy varibales are all 0. The monthly AccordSales in August will be around 8697 higher than that in April, leading to a monthly sale of 106,447 in August. \n",
    "\n",
    "A percentage increase in the unemployment rate holding all other features constant will lead to approximately 762 more sales of Accord in a given month. One more Accord query on Google holding all other features constant will lead to approximately 10 more sales of Accord in a given month. A unit increase in the consumer price index for all products holding all other features constant will lead to approximately 639 fewer sales of Accord in a given month. A unit increase in the consumer price index for the energy sector holding all other features constant will lead to approximately 67 more sales of Accord in a given month. A unit increase in the MilesTraveled holding all other features constant will lead to approximately 0.2 more sales of Accord in a given month."
   ]
  },
  {
   "cell_type": "markdown",
   "id": "1962dfcc",
   "metadata": {},
   "source": [
    "**ii)**\n",
    "\n",
    "The training set R-squared for this model is 0.748. Significant varibales (i,e, p-value is less than 0.05) include MonthFactor[T.August], MonthFactor[T.January], and MonthFactor[T.May]."
   ]
  },
  {
   "cell_type": "markdown",
   "id": "b89b4f76",
   "metadata": {},
   "source": [
    "**iii)**\n",
    "\n",
    "I think adding the independent varibale MonthFactor improves the quality of the model as the R-squared of model_4 improves signifantly from model_3, 0.748 vs. 0.227."
   ]
  },
  {
   "cell_type": "markdown",
   "id": "a9ce835a",
   "metadata": {},
   "source": [
    "**iv)**\n",
    "\n",
    "We can model seasonality according to quarters instead of months, i.e., grouping months into quarter 1, 2, 3, and 4."
   ]
  },
  {
   "cell_type": "markdown",
   "id": "b7936845",
   "metadata": {},
   "source": [
    "**c)**"
   ]
  },
  {
   "cell_type": "code",
   "execution_count": 8,
   "id": "7c7568d2",
   "metadata": {},
   "outputs": [
    {
     "name": "stdout",
     "output_type": "stream",
     "text": [
      "                            OLS Regression Results                            \n",
      "==============================================================================\n",
      "Dep. Variable:            AccordSales   R-squared:                       0.748\n",
      "Model:                            OLS   Adj. R-squared:                  0.662\n",
      "Method:                 Least Squares   F-statistic:                     8.711\n",
      "Date:                Mon, 12 Feb 2024   Prob (F-statistic):           8.74e-09\n",
      "Time:                        15:27:30   Log-Likelihood:                -563.05\n",
      "No. Observations:                  60   AIC:                             1158.\n",
      "Df Residuals:                      44   BIC:                             1192.\n",
      "Df Model:                          15                                         \n",
      "Covariance Type:            nonrobust                                         \n",
      "============================================================================================\n",
      "                               coef    std err          t      P>|t|      [0.025      0.975]\n",
      "--------------------------------------------------------------------------------------------\n",
      "Intercept                 9.732e+04   9.87e+04      0.986      0.330   -1.02e+05    2.96e+05\n",
      "MonthFactor[T.August]     8795.3316   2340.442      3.758      0.001    4078.481    1.35e+04\n",
      "MonthFactor[T.December]   3184.2821   2136.888      1.490      0.143   -1122.333    7490.897\n",
      "MonthFactor[T.February]  -4769.6746   2446.346     -1.950      0.058   -9699.962     160.613\n",
      "MonthFactor[T.January]   -8172.3008   2342.101     -3.489      0.001   -1.29e+04   -3452.107\n",
      "MonthFactor[T.July]       4023.9196   2188.701      1.838      0.073    -387.118    8434.957\n",
      "MonthFactor[T.June]       1608.9666   2251.760      0.715      0.479   -2929.157    6147.091\n",
      "MonthFactor[T.March]       505.0918   2346.868      0.215      0.831   -4224.709    5234.893\n",
      "MonthFactor[T.May]        5636.0489   2284.300      2.467      0.018    1032.345    1.02e+04\n",
      "MonthFactor[T.November]  -1527.0102   2401.643     -0.636      0.528   -6367.203    3313.183\n",
      "MonthFactor[T.October]     -29.9082   2278.098     -0.013      0.990   -4621.113    4561.296\n",
      "MonthFactor[T.September]  3048.6566   2351.052      1.297      0.201   -1689.577    7786.890\n",
      "Unemployment               711.2881   3145.391      0.226      0.822   -5627.831    7050.407\n",
      "CPIAll                    -647.2279    612.443     -1.057      0.296   -1881.525     587.070\n",
      "CPIEnergy                   69.1862     91.931      0.753      0.456    -116.089     254.461\n",
      "MilesTraveled                0.2611      0.353      0.740      0.463      -0.449       0.972\n",
      "==============================================================================\n",
      "Omnibus:                       11.335   Durbin-Watson:                   1.506\n",
      "Prob(Omnibus):                  0.003   Jarque-Bera (JB):               19.467\n",
      "Skew:                           0.554   Prob(JB):                     5.93e-05\n",
      "Kurtosis:                       5.561   Cond. No.                     5.97e+07\n",
      "==============================================================================\n",
      "\n",
      "Notes:\n",
      "[1] Standard Errors assume that the covariance matrix of the errors is correctly specified.\n",
      "[2] The condition number is large, 5.97e+07. This might indicate that there are\n",
      "strong multicollinearity or other numerical problems.\n"
     ]
    }
   ],
   "source": [
    "# Fit the data to the model\n",
    "model_5 = smf.ols(formula='AccordSales ~ MonthFactor + Unemployment + CPIAll + CPIEnergy + MilesTraveled', \n",
    "                  data=accord_train).fit() #ordinary least square\n",
    "print(model_5.summary())"
   ]
  },
  {
   "cell_type": "code",
   "execution_count": 9,
   "id": "f5bb24bb",
   "metadata": {},
   "outputs": [
    {
     "name": "stdout",
     "output_type": "stream",
     "text": [
      "                            OLS Regression Results                            \n",
      "==============================================================================\n",
      "Dep. Variable:            AccordSales   R-squared:                       0.745\n",
      "Model:                            OLS   Adj. R-squared:                  0.666\n",
      "Method:                 Least Squares   F-statistic:                     9.388\n",
      "Date:                Mon, 12 Feb 2024   Prob (F-statistic):           3.53e-09\n",
      "Time:                        15:27:30   Log-Likelihood:                -563.42\n",
      "No. Observations:                  60   AIC:                             1157.\n",
      "Df Residuals:                      45   BIC:                             1188.\n",
      "Df Model:                          14                                         \n",
      "Covariance Type:            nonrobust                                         \n",
      "============================================================================================\n",
      "                               coef    std err          t      P>|t|      [0.025      0.975]\n",
      "--------------------------------------------------------------------------------------------\n",
      "Intercept                 9.016e+04   9.78e+04      0.922      0.361   -1.07e+05    2.87e+05\n",
      "MonthFactor[T.August]     8078.1900   2119.924      3.811      0.000    3808.444    1.23e+04\n",
      "MonthFactor[T.December]   3166.6081   2126.003      1.489      0.143   -1115.382    7448.598\n",
      "MonthFactor[T.February]  -5658.6995   2120.720     -2.668      0.011   -9930.050   -1387.349\n",
      "MonthFactor[T.January]   -8895.3588   2118.108     -4.200      0.000   -1.32e+04   -4629.270\n",
      "MonthFactor[T.July]       3673.6399   2126.214      1.728      0.091    -608.775    7956.054\n",
      "MonthFactor[T.June]       1077.3065   2123.476      0.507      0.614   -3199.594    5354.207\n",
      "MonthFactor[T.March]      -228.5422   2116.765     -0.108      0.915   -4491.925    4034.841\n",
      "MonthFactor[T.May]        5020.0755   2116.734      2.372      0.022     756.755    9283.396\n",
      "MonthFactor[T.November]  -2343.1348   2123.053     -1.104      0.276   -6619.183    1932.914\n",
      "MonthFactor[T.October]    -591.5583   2137.301     -0.277      0.783   -4896.304    3713.188\n",
      "MonthFactor[T.September]  2336.0443   2134.256      1.095      0.280   -1962.568    6634.656\n",
      "Unemployment              1306.6247   3025.594      0.432      0.668   -4787.235    7400.484\n",
      "CPIAll                    -298.4572    389.470     -0.766      0.447   -1082.889     485.975\n",
      "CPIEnergy                   16.8028     58.412      0.288      0.775    -100.844     134.450\n",
      "==============================================================================\n",
      "Omnibus:                       11.971   Durbin-Watson:                   1.424\n",
      "Prob(Omnibus):                  0.003   Jarque-Bera (JB):               21.013\n",
      "Skew:                           0.586   Prob(JB):                     2.74e-05\n",
      "Kurtosis:                       5.652   Cond. No.                     7.30e+04\n",
      "==============================================================================\n",
      "\n",
      "Notes:\n",
      "[1] Standard Errors assume that the covariance matrix of the errors is correctly specified.\n",
      "[2] The condition number is large, 7.3e+04. This might indicate that there are\n",
      "strong multicollinearity or other numerical problems.\n"
     ]
    }
   ],
   "source": [
    "# Fit the data to the model\n",
    "model_6 = smf.ols(formula='AccordSales ~ MonthFactor + Unemployment + CPIAll + CPIEnergy', \n",
    "                  data=accord_train).fit() #ordinary least square\n",
    "print(model_6.summary())"
   ]
  },
  {
   "cell_type": "code",
   "execution_count": 10,
   "id": "6fe7c728",
   "metadata": {},
   "outputs": [
    {
     "name": "stdout",
     "output_type": "stream",
     "text": [
      "                            OLS Regression Results                            \n",
      "==============================================================================\n",
      "Dep. Variable:            AccordSales   R-squared:                       0.744\n",
      "Model:                            OLS   Adj. R-squared:                  0.672\n",
      "Method:                 Least Squares   F-statistic:                     10.31\n",
      "Date:                Mon, 12 Feb 2024   Prob (F-statistic):           1.10e-09\n",
      "Time:                        15:27:30   Log-Likelihood:                -563.47\n",
      "No. Observations:                  60   AIC:                             1155.\n",
      "Df Residuals:                      46   BIC:                             1184.\n",
      "Df Model:                          13                                         \n",
      "Covariance Type:            nonrobust                                         \n",
      "============================================================================================\n",
      "                               coef    std err          t      P>|t|      [0.025      0.975]\n",
      "--------------------------------------------------------------------------------------------\n",
      "Intercept                 6.521e+04   4.47e+04      1.459      0.151   -2.47e+04    1.55e+05\n",
      "MonthFactor[T.August]     8102.4013   2097.027      3.864      0.000    3881.305    1.23e+04\n",
      "MonthFactor[T.December]   3156.7234   2104.425      1.500      0.140   -1079.264    7392.711\n",
      "MonthFactor[T.February]  -5696.3335   2095.471     -2.718      0.009   -9914.299   -1478.368\n",
      "MonthFactor[T.January]   -8886.8303   2096.679     -4.239      0.000   -1.31e+04   -4666.435\n",
      "MonthFactor[T.July]       3727.7015   2096.670      1.778      0.082    -492.676    7948.079\n",
      "MonthFactor[T.June]       1126.3039   2095.424      0.538      0.594   -3091.566    5344.174\n",
      "MonthFactor[T.March]      -245.5634   2094.735     -0.117      0.907   -4462.046    3970.920\n",
      "MonthFactor[T.May]        5037.8273   2094.633      2.405      0.020     821.551    9254.104\n",
      "MonthFactor[T.November]  -2338.9184   2101.729     -1.113      0.272   -6569.480    1891.644\n",
      "MonthFactor[T.October]    -522.2060   2102.380     -0.248      0.805   -4754.078    3709.666\n",
      "MonthFactor[T.September]  2404.2308   2099.798      1.145      0.258   -1822.444    6630.906\n",
      "Unemployment              2111.8288   1137.002      1.857      0.070    -176.837    4400.495\n",
      "CPIAll                    -197.0452    163.880     -1.202      0.235    -526.918     132.828\n",
      "==============================================================================\n",
      "Omnibus:                       12.354   Durbin-Watson:                   1.421\n",
      "Prob(Omnibus):                  0.002   Jarque-Bera (JB):               22.284\n",
      "Skew:                           0.597   Prob(JB):                     1.45e-05\n",
      "Kurtosis:                       5.736   Cond. No.                     2.53e+04\n",
      "==============================================================================\n",
      "\n",
      "Notes:\n",
      "[1] Standard Errors assume that the covariance matrix of the errors is correctly specified.\n",
      "[2] The condition number is large, 2.53e+04. This might indicate that there are\n",
      "strong multicollinearity or other numerical problems.\n"
     ]
    }
   ],
   "source": [
    "# Fit the data to the model\n",
    "model_7 = smf.ols(formula='AccordSales ~ MonthFactor + Unemployment + CPIAll', \n",
    "                  data=accord_train).fit() #ordinary least square\n",
    "print(model_7.summary())"
   ]
  },
  {
   "cell_type": "code",
   "execution_count": 11,
   "id": "0a352d78",
   "metadata": {},
   "outputs": [
    {
     "name": "stdout",
     "output_type": "stream",
     "text": [
      "                            OLS Regression Results                            \n",
      "==============================================================================\n",
      "Dep. Variable:            AccordSales   R-squared:                       0.736\n",
      "Model:                            OLS   Adj. R-squared:                  0.669\n",
      "Method:                 Least Squares   F-statistic:                     10.94\n",
      "Date:                Mon, 12 Feb 2024   Prob (F-statistic):           6.20e-10\n",
      "Time:                        15:27:30   Log-Likelihood:                -564.40\n",
      "No. Observations:                  60   AIC:                             1155.\n",
      "Df Residuals:                      47   BIC:                             1182.\n",
      "Df Model:                          12                                         \n",
      "Covariance Type:            nonrobust                                         \n",
      "============================================================================================\n",
      "                               coef    std err          t      P>|t|      [0.025      0.975]\n",
      "--------------------------------------------------------------------------------------------\n",
      "Intercept                 1.161e+04   3111.095      3.732      0.001    5350.675    1.79e+04\n",
      "MonthFactor[T.August]     8051.7360   2106.521      3.822      0.000    3813.961    1.23e+04\n",
      "MonthFactor[T.December]   3175.7761   2114.320      1.502      0.140   -1077.686    7429.238\n",
      "MonthFactor[T.February]  -5669.6240   2105.266     -2.693      0.010   -9904.872   -1434.376\n",
      "MonthFactor[T.January]   -8797.2240   2105.266     -4.179      0.000    -1.3e+04   -4561.976\n",
      "MonthFactor[T.July]       3747.7360   2106.521      1.779      0.082    -490.039    7985.511\n",
      "MonthFactor[T.June]       1105.6240   2105.266      0.525      0.602   -3129.624    5340.872\n",
      "MonthFactor[T.March]      -217.3120   2104.512     -0.103      0.918   -4451.043    4016.419\n",
      "MonthFactor[T.May]        5024.5120   2104.512      2.387      0.021     790.781    9258.243\n",
      "MonthFactor[T.November]  -2379.5359   2111.399     -1.127      0.265   -6627.122    1868.050\n",
      "MonthFactor[T.October]    -515.0319   2112.317     -0.244      0.808   -4764.466    3734.402\n",
      "MonthFactor[T.September]  2399.6560   2109.728      1.137      0.261   -1844.569    6643.881\n",
      "Unemployment              3315.2002    542.105      6.115      0.000    2224.626    4405.774\n",
      "==============================================================================\n",
      "Omnibus:                        8.701   Durbin-Watson:                   1.381\n",
      "Prob(Omnibus):                  0.013   Jarque-Bera (JB):               11.699\n",
      "Skew:                           0.495   Prob(JB):                      0.00288\n",
      "Kurtosis:                       4.923   Cond. No.                         64.6\n",
      "==============================================================================\n",
      "\n",
      "Notes:\n",
      "[1] Standard Errors assume that the covariance matrix of the errors is correctly specified.\n"
     ]
    }
   ],
   "source": [
    "# Fit the data to the model\n",
    "model_8 = smf.ols(formula='AccordSales ~ MonthFactor + Unemployment', \n",
    "                  data=accord_train).fit() #ordinary least square\n",
    "print(model_8.summary())"
   ]
  },
  {
   "cell_type": "markdown",
   "id": "7f2eaee5",
   "metadata": {},
   "source": [
    "AccordQueries was removed from model_4 to form model_5 as it has the second highest p-value at 0.942 (MonthFactor[T.October] has highest p-value at 0.942) comparing with other features. model_5 has R-squared at 0.748 and adjusted R-squared at 0.662.\n",
    "\n",
    "\n",
    "MilesTraveled was removed from model_5 to form model_6 as it has a high p-value at 0.463 comparing with other features and the coefficient is close to zero. model_6 has R-squared at 0.745 and adjusted R-squared at 0.666.\n",
    "\n",
    "\n",
    "CPIEnergy was removed from model_6 to form model_7 as it has the highest p-value other than some of the MonthFactor dummy variables comparing with other features. model_7 has R-squared at 0.744 and adjusted R-squared at 0.672.\n",
    "\n",
    "\n",
    "CPIAll was removed from model_7 to form model_8 as it has the highest p-value other than some of the MonthFactor dummy variables comparing with other features. model_8 has R-squared at 0.736 and adjusted R-squared at 0.669.\n",
    "\n",
    "\n",
    "As a result, model_6, which includes MonthFactor, Unemployment, CPIAll, and CPIEnergy as features, is the final model selected given it has reasonable R-squared and adjusted R-squared among the four models compared above. Although it is not the simpliest model, it retains good balance between simplicity and model fittness."
   ]
  },
  {
   "cell_type": "code",
   "execution_count": 12,
   "id": "24687b38",
   "metadata": {},
   "outputs": [],
   "source": [
    "def OSR2(model, df_train, df_test, dependent_var):\n",
    "\n",
    "    y_test = df_test[dependent_var]\n",
    "    y_pred = model.predict(df_test)\n",
    "    SSE = np.sum((y_test - y_pred)**2)\n",
    "    SST = np.sum((y_test - np.mean(df_train[dependent_var]))**2)\n",
    "\n",
    "    return 1 - SSE/SST"
   ]
  },
  {
   "cell_type": "code",
   "execution_count": 13,
   "id": "02178292",
   "metadata": {},
   "outputs": [
    {
     "data": {
      "text/plain": [
       "0.5658545696406424"
      ]
     },
     "execution_count": 13,
     "metadata": {},
     "output_type": "execute_result"
    }
   ],
   "source": [
    "OSR2(model_6, accord_train, accord_test, 'AccordSales')"
   ]
  },
  {
   "cell_type": "markdown",
   "id": "e2328d24",
   "metadata": {},
   "source": [
    "The training set R-squared is 0.745 and the OSR-squared is 0.566. The OSR-squared is lower than the R-squared, which makes sense as the OLS regression model is fitted to the training data and usually out-of-sample prediction has a lower R-squared. However, the OSR-squared value of 0.566 is at a concerning level as it indicates the regression model has limited predictibility. The significant drop is probably due to the pandemic, which had a longlasting period from 2020 to 2023. The inflation and unemployement rate were unusually high ihe US, affecting Unemployment, CPIAll, and CPIEnergy. The training set does not include any similar scenario in the dataset, possibility leading to the poor prediction of a rare event."
   ]
  },
  {
   "cell_type": "markdown",
   "id": "450ad7d2",
   "metadata": {},
   "source": [
    "**d)**"
   ]
  },
  {
   "cell_type": "code",
   "execution_count": 14,
   "id": "16f58364",
   "metadata": {},
   "outputs": [
    {
     "data": {
      "text/html": [
       "<div>\n",
       "<style scoped>\n",
       "    .dataframe tbody tr th:only-of-type {\n",
       "        vertical-align: middle;\n",
       "    }\n",
       "\n",
       "    .dataframe tbody tr th {\n",
       "        vertical-align: top;\n",
       "    }\n",
       "\n",
       "    .dataframe thead th {\n",
       "        text-align: right;\n",
       "    }\n",
       "</style>\n",
       "<table border=\"1\" class=\"dataframe\">\n",
       "  <thead>\n",
       "    <tr style=\"text-align: right;\">\n",
       "      <th></th>\n",
       "      <th>DATE</th>\n",
       "      <th>DFF</th>\n",
       "    </tr>\n",
       "  </thead>\n",
       "  <tbody>\n",
       "    <tr>\n",
       "      <th>0</th>\n",
       "      <td>2014-01-01</td>\n",
       "      <td>0.071613</td>\n",
       "    </tr>\n",
       "    <tr>\n",
       "      <th>1</th>\n",
       "      <td>2014-02-01</td>\n",
       "      <td>0.066429</td>\n",
       "    </tr>\n",
       "    <tr>\n",
       "      <th>2</th>\n",
       "      <td>2014-03-01</td>\n",
       "      <td>0.078065</td>\n",
       "    </tr>\n",
       "    <tr>\n",
       "      <th>3</th>\n",
       "      <td>2014-04-01</td>\n",
       "      <td>0.090333</td>\n",
       "    </tr>\n",
       "    <tr>\n",
       "      <th>4</th>\n",
       "      <td>2014-05-01</td>\n",
       "      <td>0.087097</td>\n",
       "    </tr>\n",
       "  </tbody>\n",
       "</table>\n",
       "</div>"
      ],
      "text/plain": [
       "         DATE       DFF\n",
       "0  2014-01-01  0.071613\n",
       "1  2014-02-01  0.066429\n",
       "2  2014-03-01  0.078065\n",
       "3  2014-04-01  0.090333\n",
       "4  2014-05-01  0.087097"
      ]
     },
     "execution_count": 14,
     "metadata": {},
     "output_type": "execute_result"
    }
   ],
   "source": [
    "DFF = pd.read_csv('DFF.csv')\n",
    "DFF.head()"
   ]
  },
  {
   "cell_type": "code",
   "execution_count": 15,
   "id": "c504e233",
   "metadata": {},
   "outputs": [
    {
     "data": {
      "text/html": [
       "<div>\n",
       "<style scoped>\n",
       "    .dataframe tbody tr th:only-of-type {\n",
       "        vertical-align: middle;\n",
       "    }\n",
       "\n",
       "    .dataframe tbody tr th {\n",
       "        vertical-align: top;\n",
       "    }\n",
       "\n",
       "    .dataframe thead th {\n",
       "        text-align: right;\n",
       "    }\n",
       "</style>\n",
       "<table border=\"1\" class=\"dataframe\">\n",
       "  <thead>\n",
       "    <tr style=\"text-align: right;\">\n",
       "      <th></th>\n",
       "      <th>MonthNumeric</th>\n",
       "      <th>MonthFactor</th>\n",
       "      <th>Year</th>\n",
       "      <th>AccordSales</th>\n",
       "      <th>Unemployment</th>\n",
       "      <th>AccordQueries</th>\n",
       "      <th>CPIAll</th>\n",
       "      <th>CPIEnergy</th>\n",
       "      <th>MilesTraveled</th>\n",
       "      <th>DFF</th>\n",
       "    </tr>\n",
       "  </thead>\n",
       "  <tbody>\n",
       "    <tr>\n",
       "      <th>0</th>\n",
       "      <td>1</td>\n",
       "      <td>January</td>\n",
       "      <td>2014</td>\n",
       "      <td>20604</td>\n",
       "      <td>6.6</td>\n",
       "      <td>69</td>\n",
       "      <td>235.288</td>\n",
       "      <td>250.340</td>\n",
       "      <td>246531</td>\n",
       "      <td>0.071613</td>\n",
       "    </tr>\n",
       "    <tr>\n",
       "      <th>1</th>\n",
       "      <td>2</td>\n",
       "      <td>February</td>\n",
       "      <td>2014</td>\n",
       "      <td>24622</td>\n",
       "      <td>6.7</td>\n",
       "      <td>74</td>\n",
       "      <td>235.547</td>\n",
       "      <td>249.925</td>\n",
       "      <td>249499</td>\n",
       "      <td>0.066429</td>\n",
       "    </tr>\n",
       "    <tr>\n",
       "      <th>2</th>\n",
       "      <td>3</td>\n",
       "      <td>March</td>\n",
       "      <td>2014</td>\n",
       "      <td>33962</td>\n",
       "      <td>6.7</td>\n",
       "      <td>79</td>\n",
       "      <td>236.028</td>\n",
       "      <td>249.961</td>\n",
       "      <td>251120</td>\n",
       "      <td>0.078065</td>\n",
       "    </tr>\n",
       "    <tr>\n",
       "      <th>3</th>\n",
       "      <td>4</td>\n",
       "      <td>April</td>\n",
       "      <td>2014</td>\n",
       "      <td>34124</td>\n",
       "      <td>6.2</td>\n",
       "      <td>74</td>\n",
       "      <td>236.468</td>\n",
       "      <td>249.864</td>\n",
       "      <td>251959</td>\n",
       "      <td>0.090333</td>\n",
       "    </tr>\n",
       "    <tr>\n",
       "      <th>4</th>\n",
       "      <td>5</td>\n",
       "      <td>May</td>\n",
       "      <td>2014</td>\n",
       "      <td>39637</td>\n",
       "      <td>6.3</td>\n",
       "      <td>75</td>\n",
       "      <td>236.918</td>\n",
       "      <td>249.213</td>\n",
       "      <td>252289</td>\n",
       "      <td>0.087097</td>\n",
       "    </tr>\n",
       "  </tbody>\n",
       "</table>\n",
       "</div>"
      ],
      "text/plain": [
       "   MonthNumeric MonthFactor  Year  AccordSales  Unemployment  AccordQueries  \\\n",
       "0             1     January  2014        20604           6.6             69   \n",
       "1             2    February  2014        24622           6.7             74   \n",
       "2             3       March  2014        33962           6.7             79   \n",
       "3             4       April  2014        34124           6.2             74   \n",
       "4             5         May  2014        39637           6.3             75   \n",
       "\n",
       "    CPIAll  CPIEnergy  MilesTraveled       DFF  \n",
       "0  235.288    250.340         246531  0.071613  \n",
       "1  235.547    249.925         249499  0.066429  \n",
       "2  236.028    249.961         251120  0.078065  \n",
       "3  236.468    249.864         251959  0.090333  \n",
       "4  236.918    249.213         252289  0.087097  "
      ]
     },
     "execution_count": 15,
     "metadata": {},
     "output_type": "execute_result"
    }
   ],
   "source": [
    "accord_new = accord \n",
    "accord_new['DFF']= DFF['DFF']\n",
    "accord_new.head()"
   ]
  },
  {
   "cell_type": "code",
   "execution_count": 16,
   "id": "8e7e736f",
   "metadata": {},
   "outputs": [],
   "source": [
    "#split the training and testing dataset; cutoff point is 2018\n",
    "accord_train_new = accord_new[accord_new['Year'] <= 2018]\n",
    "accord_test_new = accord_new[accord_new['Year'] > 2018]"
   ]
  },
  {
   "cell_type": "code",
   "execution_count": 17,
   "id": "43da9ce4",
   "metadata": {},
   "outputs": [
    {
     "name": "stdout",
     "output_type": "stream",
     "text": [
      "                            OLS Regression Results                            \n",
      "==============================================================================\n",
      "Dep. Variable:            AccordSales   R-squared:                       0.747\n",
      "Model:                            OLS   Adj. R-squared:                  0.661\n",
      "Method:                 Least Squares   F-statistic:                     8.677\n",
      "Date:                Mon, 12 Feb 2024   Prob (F-statistic):           9.26e-09\n",
      "Time:                        15:27:30   Log-Likelihood:                -563.13\n",
      "No. Observations:                  60   AIC:                             1158.\n",
      "Df Residuals:                      44   BIC:                             1192.\n",
      "Df Model:                          15                                         \n",
      "Covariance Type:            nonrobust                                         \n",
      "============================================================================================\n",
      "                               coef    std err          t      P>|t|      [0.025      0.975]\n",
      "--------------------------------------------------------------------------------------------\n",
      "Intercept                 3.128e+04   1.34e+05      0.234      0.816   -2.39e+05    3.01e+05\n",
      "MonthFactor[T.August]     7958.6360   2141.678      3.716      0.001    3642.368    1.23e+04\n",
      "MonthFactor[T.December]   3169.8796   2139.843      1.481      0.146   -1142.690    7482.450\n",
      "MonthFactor[T.February]  -5666.2849   2134.552     -2.655      0.011   -9968.192   -1364.377\n",
      "MonthFactor[T.January]   -8839.0195   2133.662     -4.143      0.000   -1.31e+04   -4538.905\n",
      "MonthFactor[T.July]       3634.9056   2140.884      1.698      0.097    -679.762    7949.573\n",
      "MonthFactor[T.June]        987.2640   2141.805      0.461      0.647   -3329.259    5303.787\n",
      "MonthFactor[T.March]      -234.8331   2130.561     -0.110      0.913   -4528.696    4059.030\n",
      "MonthFactor[T.May]        4916.2899   2136.517      2.301      0.026     610.422    9222.158\n",
      "MonthFactor[T.November]  -2542.4752   2158.891     -1.178      0.245   -6893.434    1808.484\n",
      "MonthFactor[T.October]    -773.6139   2169.472     -0.357      0.723   -5145.898    3598.670\n",
      "MonthFactor[T.September]  2135.9488   2170.217      0.984      0.330   -2237.837    6509.735\n",
      "Unemployment              1296.3845   3045.323      0.426      0.672   -4841.061    7433.830\n",
      "CPIAll                     -50.2201    548.065     -0.092      0.927   -1154.773    1054.333\n",
      "CPIEnergy                   18.5634     58.855      0.315      0.754    -100.050     137.177\n",
      "DFF                      -2097.8051   3236.876     -0.648      0.520   -8621.300    4425.690\n",
      "==============================================================================\n",
      "Omnibus:                       11.615   Durbin-Watson:                   1.436\n",
      "Prob(Omnibus):                  0.003   Jarque-Bera (JB):               20.048\n",
      "Skew:                           0.571   Prob(JB):                     4.43e-05\n",
      "Kurtosis:                       5.592   Cond. No.                     9.93e+04\n",
      "==============================================================================\n",
      "\n",
      "Notes:\n",
      "[1] Standard Errors assume that the covariance matrix of the errors is correctly specified.\n",
      "[2] The condition number is large, 9.93e+04. This might indicate that there are\n",
      "strong multicollinearity or other numerical problems.\n"
     ]
    }
   ],
   "source": [
    "# Fit the data to the model\n",
    "model_9 = smf.ols(formula='AccordSales ~ MonthFactor + Unemployment + CPIAll + CPIEnergy + DFF', \n",
    "                  data=accord_train_new).fit() #ordinary least square\n",
    "print(model_9.summary())"
   ]
  },
  {
   "cell_type": "code",
   "execution_count": 18,
   "id": "275a18a2",
   "metadata": {},
   "outputs": [
    {
     "data": {
      "text/plain": [
       "0.08004426754171201"
      ]
     },
     "execution_count": 18,
     "metadata": {},
     "output_type": "execute_result"
    }
   ],
   "source": [
    "OSR2(model_9, accord_train_new, accord_test_new, 'AccordSales')"
   ]
  },
  {
   "cell_type": "markdown",
   "id": "928c6a21",
   "metadata": {},
   "source": [
    "Monthly Average Fed Fund Effective Rate(%) (i.e., DFF) from January 2014 to November 2023 is added as an additional feature to the final model from part (c). I hypothesize it might be related to Honda sales as the Fed Fund Rate level impacts personal loan rate in general, which would likely to affect people's incentive to buy cars. In particular, a higher Fed Fund Rate will likely to increase personal loan rate, which makes it more expensive to borrow from the banks and more difficult to find a cheaper refinancing option.\n",
    "\n",
    "The new model, model_9, including DFF in addtion to the features from the final model, model_6, from part (c) has a slightly better R-squared value at 0.747 vs. 0.745. However, the OSR-squared shows a significnt drop from 0.566 to 0.080, indicating that DFF is not providing any new predictive value but worsening the out-of-sample model performance. The p-value of DFF is 0.520, which is much higher than 0.05, highlighting that it is not a statistically significant feature. The coefficient of -2097.81 is align with my expectation of the feature.\n",
    "\n",
    "The possible reasons to explain the phenomenum are: 1) model_9 has higher multicollinearity than model_6, i.e., DFF is highly correlated with unemployment and/or CPI; 2) the DFF in the testing data is much unusual as in the training data given the FED consecutively raised the DFF to control the inflation of the US during the pandemic, so the black swan event limited the out-of-sample predictibility."
   ]
  }
 ],
 "metadata": {
  "kernelspec": {
   "display_name": "Python 3 (ipykernel)",
   "language": "python",
   "name": "python3"
  },
  "language_info": {
   "codemirror_mode": {
    "name": "ipython",
    "version": 3
   },
   "file_extension": ".py",
   "mimetype": "text/x-python",
   "name": "python",
   "nbconvert_exporter": "python",
   "pygments_lexer": "ipython3",
   "version": "3.11.4"
  }
 },
 "nbformat": 4,
 "nbformat_minor": 5
}
