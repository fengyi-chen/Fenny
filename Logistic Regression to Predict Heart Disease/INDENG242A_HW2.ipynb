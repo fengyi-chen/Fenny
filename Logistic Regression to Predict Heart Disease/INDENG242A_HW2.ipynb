{
 "cells": [
  {
   "cell_type": "markdown",
   "id": "0b7019de",
   "metadata": {},
   "source": [
    "## Problem 2: FramingHam Heart Study\n",
    "**Import the packages needed**"
   ]
  },
  {
   "cell_type": "code",
   "execution_count": 1,
   "id": "1880d16a",
   "metadata": {},
   "outputs": [],
   "source": [
    "import numpy as np\n",
    "import pandas as pd\n",
    "import os\n",
    "from sklearn.model_selection import train_test_split\n",
    "import statsmodels.formula.api as smf\n",
    "from sklearn.metrics import confusion_matrix\n",
    "import matplotlib.pyplot as plt\n",
    "from sklearn.metrics import roc_curve, auc\n",
    "from sklearn.preprocessing import OneHotEncoder\n",
    "from sklearn.discriminant_analysis import LinearDiscriminantAnalysis\n",
    "from sklearn.metrics import accuracy_score"
   ]
  },
  {
   "cell_type": "markdown",
   "id": "df7ffe8a",
   "metadata": {},
   "source": [
    "**Import the training set**"
   ]
  },
  {
   "cell_type": "code",
   "execution_count": 2,
   "id": "238a0b43",
   "metadata": {
    "scrolled": true
   },
   "outputs": [
    {
     "name": "stdout",
     "output_type": "stream",
     "text": [
      "<class 'pandas.core.frame.DataFrame'>\n",
      "RangeIndex: 2560 entries, 0 to 2559\n",
      "Data columns (total 16 columns):\n",
      " #   Column           Non-Null Count  Dtype  \n",
      "---  ------           --------------  -----  \n",
      " 0   male             2560 non-null   int64  \n",
      " 1   age              2560 non-null   int64  \n",
      " 2   education        2560 non-null   object \n",
      " 3   currentSmoker    2560 non-null   int64  \n",
      " 4   cigsPerDay       2560 non-null   int64  \n",
      " 5   BPMeds           2560 non-null   int64  \n",
      " 6   prevalentStroke  2560 non-null   int64  \n",
      " 7   prevalentHyp     2560 non-null   int64  \n",
      " 8   diabetes         2560 non-null   int64  \n",
      " 9   totChol          2560 non-null   int64  \n",
      " 10  sysBP            2560 non-null   float64\n",
      " 11  diaBP            2560 non-null   float64\n",
      " 12  BMI              2560 non-null   float64\n",
      " 13  heartRate        2560 non-null   int64  \n",
      " 14  glucose          2560 non-null   int64  \n",
      " 15  TenYearCHD       2560 non-null   int64  \n",
      "dtypes: float64(3), int64(12), object(1)\n",
      "memory usage: 320.1+ KB\n"
     ]
    },
    {
     "data": {
      "text/html": [
       "<div>\n",
       "<style scoped>\n",
       "    .dataframe tbody tr th:only-of-type {\n",
       "        vertical-align: middle;\n",
       "    }\n",
       "\n",
       "    .dataframe tbody tr th {\n",
       "        vertical-align: top;\n",
       "    }\n",
       "\n",
       "    .dataframe thead th {\n",
       "        text-align: right;\n",
       "    }\n",
       "</style>\n",
       "<table border=\"1\" class=\"dataframe\">\n",
       "  <thead>\n",
       "    <tr style=\"text-align: right;\">\n",
       "      <th></th>\n",
       "      <th>male</th>\n",
       "      <th>age</th>\n",
       "      <th>education</th>\n",
       "      <th>currentSmoker</th>\n",
       "      <th>cigsPerDay</th>\n",
       "      <th>BPMeds</th>\n",
       "      <th>prevalentStroke</th>\n",
       "      <th>prevalentHyp</th>\n",
       "      <th>diabetes</th>\n",
       "      <th>totChol</th>\n",
       "      <th>sysBP</th>\n",
       "      <th>diaBP</th>\n",
       "      <th>BMI</th>\n",
       "      <th>heartRate</th>\n",
       "      <th>glucose</th>\n",
       "      <th>TenYearCHD</th>\n",
       "    </tr>\n",
       "  </thead>\n",
       "  <tbody>\n",
       "    <tr>\n",
       "      <th>0</th>\n",
       "      <td>0</td>\n",
       "      <td>63</td>\n",
       "      <td>Some high school</td>\n",
       "      <td>0</td>\n",
       "      <td>0</td>\n",
       "      <td>0</td>\n",
       "      <td>0</td>\n",
       "      <td>1</td>\n",
       "      <td>0</td>\n",
       "      <td>293</td>\n",
       "      <td>193.0</td>\n",
       "      <td>63.0</td>\n",
       "      <td>30.00</td>\n",
       "      <td>70</td>\n",
       "      <td>76</td>\n",
       "      <td>1</td>\n",
       "    </tr>\n",
       "    <tr>\n",
       "      <th>1</th>\n",
       "      <td>1</td>\n",
       "      <td>41</td>\n",
       "      <td>High school/GED</td>\n",
       "      <td>1</td>\n",
       "      <td>40</td>\n",
       "      <td>0</td>\n",
       "      <td>0</td>\n",
       "      <td>0</td>\n",
       "      <td>0</td>\n",
       "      <td>310</td>\n",
       "      <td>117.5</td>\n",
       "      <td>80.0</td>\n",
       "      <td>26.74</td>\n",
       "      <td>80</td>\n",
       "      <td>78</td>\n",
       "      <td>0</td>\n",
       "    </tr>\n",
       "    <tr>\n",
       "      <th>2</th>\n",
       "      <td>1</td>\n",
       "      <td>58</td>\n",
       "      <td>Some college/vocational school</td>\n",
       "      <td>0</td>\n",
       "      <td>0</td>\n",
       "      <td>0</td>\n",
       "      <td>0</td>\n",
       "      <td>0</td>\n",
       "      <td>0</td>\n",
       "      <td>250</td>\n",
       "      <td>109.0</td>\n",
       "      <td>78.5</td>\n",
       "      <td>25.26</td>\n",
       "      <td>90</td>\n",
       "      <td>83</td>\n",
       "      <td>0</td>\n",
       "    </tr>\n",
       "    <tr>\n",
       "      <th>3</th>\n",
       "      <td>1</td>\n",
       "      <td>43</td>\n",
       "      <td>Some high school</td>\n",
       "      <td>1</td>\n",
       "      <td>43</td>\n",
       "      <td>0</td>\n",
       "      <td>0</td>\n",
       "      <td>0</td>\n",
       "      <td>0</td>\n",
       "      <td>215</td>\n",
       "      <td>122.0</td>\n",
       "      <td>76.0</td>\n",
       "      <td>26.84</td>\n",
       "      <td>85</td>\n",
       "      <td>74</td>\n",
       "      <td>0</td>\n",
       "    </tr>\n",
       "    <tr>\n",
       "      <th>4</th>\n",
       "      <td>1</td>\n",
       "      <td>46</td>\n",
       "      <td>College</td>\n",
       "      <td>0</td>\n",
       "      <td>0</td>\n",
       "      <td>0</td>\n",
       "      <td>0</td>\n",
       "      <td>1</td>\n",
       "      <td>0</td>\n",
       "      <td>220</td>\n",
       "      <td>136.5</td>\n",
       "      <td>99.5</td>\n",
       "      <td>27.78</td>\n",
       "      <td>80</td>\n",
       "      <td>70</td>\n",
       "      <td>0</td>\n",
       "    </tr>\n",
       "  </tbody>\n",
       "</table>\n",
       "</div>"
      ],
      "text/plain": [
       "   male  age                       education  currentSmoker  cigsPerDay  \\\n",
       "0     0   63                Some high school              0           0   \n",
       "1     1   41                 High school/GED              1          40   \n",
       "2     1   58  Some college/vocational school              0           0   \n",
       "3     1   43                Some high school              1          43   \n",
       "4     1   46                         College              0           0   \n",
       "\n",
       "   BPMeds  prevalentStroke  prevalentHyp  diabetes  totChol  sysBP  diaBP  \\\n",
       "0       0                0             1         0      293  193.0   63.0   \n",
       "1       0                0             0         0      310  117.5   80.0   \n",
       "2       0                0             0         0      250  109.0   78.5   \n",
       "3       0                0             0         0      215  122.0   76.0   \n",
       "4       0                0             1         0      220  136.5   99.5   \n",
       "\n",
       "     BMI  heartRate  glucose  TenYearCHD  \n",
       "0  30.00         70       76           1  \n",
       "1  26.74         80       78           0  \n",
       "2  25.26         90       83           0  \n",
       "3  26.84         85       74           0  \n",
       "4  27.78         80       70           0  "
      ]
     },
     "execution_count": 2,
     "metadata": {},
     "output_type": "execute_result"
    }
   ],
   "source": [
    "heart_train = pd.read_csv(\"framingham_train_sp24.csv\")\n",
    "heart_train.info()\n",
    "heart_train.head(5)"
   ]
  },
  {
   "cell_type": "markdown",
   "id": "893115f9",
   "metadata": {},
   "source": [
    "**a) i)**"
   ]
  },
  {
   "cell_type": "code",
   "execution_count": 3,
   "id": "f6d70df1",
   "metadata": {
    "scrolled": true
   },
   "outputs": [
    {
     "name": "stdout",
     "output_type": "stream",
     "text": [
      "Optimization terminated successfully.\n",
      "         Current function value: 0.375973\n",
      "         Iterations 7\n",
      "                           Logit Regression Results                           \n",
      "==============================================================================\n",
      "Dep. Variable:             TenYearCHD   No. Observations:                 2560\n",
      "Model:                          Logit   Df Residuals:                     2542\n",
      "Method:                           MLE   Df Model:                           17\n",
      "Date:                Sun, 25 Feb 2024   Pseudo R-squ.:                  0.1285\n",
      "Time:                        22:31:44   Log-Likelihood:                -962.49\n",
      "converged:                       True   LL-Null:                       -1104.4\n",
      "Covariance Type:            nonrobust   LLR p-value:                 2.367e-50\n",
      "===============================================================================================================\n",
      "                                                  coef    std err          z      P>|z|      [0.025      0.975]\n",
      "---------------------------------------------------------------------------------------------------------------\n",
      "Intercept                                      -9.0826      0.842    -10.787      0.000     -10.733      -7.432\n",
      "education[T.High school/GED]                   -0.1220      0.211     -0.579      0.563      -0.535       0.291\n",
      "education[T.Some college/vocational school]    -0.0870      0.233     -0.373      0.709      -0.544       0.370\n",
      "education[T.Some high school]                   0.0519      0.196      0.265      0.791      -0.333       0.437\n",
      "male                                            0.4217      0.133      3.178      0.001       0.162       0.682\n",
      "age                                             0.0711      0.008      8.829      0.000       0.055       0.087\n",
      "currentSmoker                                   0.1506      0.185      0.813      0.416      -0.212       0.514\n",
      "cigsPerDay                                      0.0250      0.007      3.476      0.001       0.011       0.039\n",
      "BPMeds                                          0.2873      0.274      1.048      0.295      -0.250       0.824\n",
      "prevalentStroke                                 0.7975      0.571      1.397      0.162      -0.321       1.916\n",
      "prevalentHyp                                    0.2215      0.163      1.355      0.175      -0.099       0.542\n",
      "diabetes                                       -0.0481      0.368     -0.131      0.896      -0.769       0.673\n",
      "totChol                                         0.0028      0.001      2.048      0.041       0.000       0.005\n",
      "sysBP                                           0.0092      0.004      2.041      0.041       0.000       0.018\n",
      "diaBP                                           0.0077      0.008      0.988      0.323      -0.008       0.023\n",
      "BMI                                             0.0058      0.015      0.382      0.703      -0.024       0.036\n",
      "heartRate                                      -0.0042      0.005     -0.843      0.399      -0.014       0.006\n",
      "glucose                                         0.0082      0.003      3.178      0.001       0.003       0.013\n",
      "===============================================================================================================\n"
     ]
    }
   ],
   "source": [
    "model_1 = smf.logit(formula = 'TenYearCHD ~ male + age + education + currentSmoker + cigsPerDay + BPMeds + prevalentStroke + prevalentHyp + diabetes + totChol + sysBP + diaBP + BMI + heartRate + glucose',\n",
    "                       data = heart_train).fit()\n",
    "print(model_1.summary())"
   ]
  },
  {
   "cell_type": "markdown",
   "id": "4035d51a",
   "metadata": {},
   "source": [
    "$f(x) = \\frac{1}{1+e^{-(-9.0826-0.1220*education[T.High school/GED]-0.0870*education[T.Some college/vocational school]+0.0519*education[T.Some high school]+0.4217*male+0.0711*age+0.1506*currentSmoker+0.0250*cigsPerDay+0.2873*BPMeds+0.7975*prevalentStroke+0.2215*prevalentHyp-0.0481*diabetes+0.0028*totChol+0.0092*sysBP+0.0077*diaBP+0.0058*BMI-0.0042*heartRate+0.0082*glucose)}}$. $f(x)$ is the conditional probability, $Pr(Y=1|X)$, of experiencing coronary heart disease within 10 years of first examination, $TenYearCHD$, given all the features $x_{i}$."
   ]
  },
  {
   "cell_type": "markdown",
   "id": "d637289f",
   "metadata": {},
   "source": [
    "**a) ii)**"
   ]
  },
  {
   "cell_type": "markdown",
   "id": "b63f62f2",
   "metadata": {},
   "source": [
    "The most impoartant risk factors are those have p-values smaller than or equal to 0.05, which include $male$, $age$, $cigsPerDay$, $totChol$, $sysBP$, and $glucose$. For example, if the patient is male, the predicted odds of developing CHD in the next 10 years will be $e^{0.4217}$, which is approximately 1.52 times higher than that of a female patient, holding all other features constant."
   ]
  },
  {
   "cell_type": "markdown",
   "id": "2ed9a569",
   "metadata": {},
   "source": [
    "**a) iii)**"
   ]
  },
  {
   "cell_type": "markdown",
   "id": "22ad42d6",
   "metadata": {},
   "source": [
    "The medication should be prescribed to a patient if the expected cost given prescription is less than the expected cost given no prescription.\n",
    "$$E[cost|prescription] = 1,000,000 * 0.15p + 100,000 * (1-0.15p) = 150,000p + 100,000 - 15,000p = 135,000p + 100,000$$\n",
    "$$E[cost|no prescription] = 900,000p + 0 * (1-p) = 900,000p$$\n",
    "$$E[cost|prescription] < E[cost|no prescription]$$\n",
    "$$135,000\\bar{p} + 100,000 < 900,000\\bar{p}$$\n",
    "$$100,000 < 765,000\\bar{p}$$\n",
    "$$\\bar{p} > \\frac{100}{765} \\approx 0.13$$\n",
    "Therefore, given the health economic analysis, it is optimal to prescribe the medication to a patient if and only if his/her 10-year CHD risk exceeds $\\frac{100}{765}$."
   ]
  },
  {
   "cell_type": "markdown",
   "id": "f38cf8c2",
   "metadata": {},
   "source": [
    "**a) iv)**\n",
    "\n",
    "**Import the testing set**"
   ]
  },
  {
   "cell_type": "code",
   "execution_count": 4,
   "id": "f9c3927b",
   "metadata": {},
   "outputs": [],
   "source": [
    "heart_test = pd.read_csv(\"framingham_test_sp24.csv\")"
   ]
  },
  {
   "cell_type": "code",
   "execution_count": 5,
   "id": "3a2bbc44",
   "metadata": {},
   "outputs": [],
   "source": [
    "y_prob = model_1.predict(heart_test)\n",
    "y_pred = pd.Series([1 if x > 100/765 else 0 for x in y_prob], index=y_prob.index)"
   ]
  },
  {
   "cell_type": "code",
   "execution_count": 6,
   "id": "fd53dd9c",
   "metadata": {},
   "outputs": [
    {
     "name": "stdout",
     "output_type": "stream",
     "text": [
      "\n",
      "Accuracy: 0.6202185792349727\n",
      "Confusion Matrix : \n",
      " [[568 370]\n",
      " [ 47 113]]\n"
     ]
    }
   ],
   "source": [
    "y_test = heart_test['TenYearCHD']\n",
    "print (\"\\nAccuracy:\", accuracy_score(y_test, y_pred))\n",
    "cm = confusion_matrix(y_test, y_pred)\n",
    "print (\"Confusion Matrix : \\n\", cm) "
   ]
  },
  {
   "cell_type": "code",
   "execution_count": 7,
   "id": "a52a3d02",
   "metadata": {},
   "outputs": [
    {
     "name": "stdout",
     "output_type": "stream",
     "text": [
      "True Positive Rate (TPR) : \n",
      " 0.70625\n",
      "False Positive Rate (FPR) : \n",
      " 0.39445628997867804\n"
     ]
    }
   ],
   "source": [
    "print (\"True Positive Rate (TPR) : \\n\", cm[1,1]/(cm[1,0]+cm[1,1])) \n",
    "print (\"False Positive Rate (FPR) : \\n\", cm[0,1]/(cm[0,0]+cm[0,1])) "
   ]
  },
  {
   "cell_type": "markdown",
   "id": "7f29d6cb",
   "metadata": {},
   "source": [
    "Accuracy measures the proportion of $TenYearCHD$ that is correctly classified by the model, i.e., model prediction matches with the record in the data, i.e., $Y = \\hat{Y} = 1$ (the model predicts the patient will get CHD within 10 years and the record agrees, which is true positive), or $Y = \\hat{Y} = 0$ (the model predicts the patient will not get CHD within 10 years and the record agrees, which is true negative); otherwise, the model makes an error, i.e., $Y = 0$ but $\\hat{Y} = 1$ (the model predicts the patient will get CHD within 10 years but the record disagrees, which is false positive, or $Y = 1$ but $\\hat{Y} = 0$ (the model predicts the patient will not get CHD within 10 years but the record disagrees, which is false negative).\n",
    "\n",
    "Using model_1, which includes all the features given, the accuracy on the test set is approximately 62%. In other words, given a new instance on a patient, the probability that the model will correctly classify the patient is approximately 62%.\n",
    "\n",
    "True Positive Rate (TPR) measures the proportion of patients at high risk for CHD indentified by the model, $Pr(\\hat{Y}=1)>0.13$, among all the patients who will get CHD in 10 years, $Y = 1$. That is, $TPR = \\frac{True  Positives}{All Positives}$, which is approximately 71%. In other words, given a patient who gets CHD in 10 years, the probability that the model will correctly classify the patient is approximately 71%.\n",
    "\n",
    "False Positive Rate (FPR) measures the proportion of patients at high risk for CHD indentified by the model, $Pr(\\hat{Y}=1)>0.13$, among all the patients who will not get CHD in 10 years, $Y = 0$. That is, $FPR = \\frac{False Positives}{All Negatives}$, which is approximately 39%. In other words, given a patient who will not get CHD in 10 years, the probability that the model will incorrectly classify the patient is approximately 39%."
   ]
  },
  {
   "cell_type": "markdown",
   "id": "8d473823",
   "metadata": {},
   "source": [
    "**a) v)**"
   ]
  },
  {
   "cell_type": "markdown",
   "id": "21f56824",
   "metadata": {},
   "source": [
    "Assume the CHD outcomes in the test set are not affected by the treatment decision.\n",
    "\n",
    "Total cost: 568 * 0 + 370 * 100,000+ 47 * 900,000 + 113 * 1,000,000 = 192,300,000\n",
    "\n",
    "Expected economic cost per patient: = 192,300,000 / 1,098 $\\approx$ 175,137 dollars.\n",
    "\n",
    "The assumption is not reasonable. The treatment decision impacts a patient's risk of developing CHD. Let's assume 85% of the patients who were correctly identified as having CHD in 10 years actually will not develop CHD thanks to the medication, i.e., only 15% of true positives will develop CHD in 10 years.\n",
    "\n",
    "Total cost: 568 * 0 + (370 + 113 * 0.85) * 100,000 + 47 * 900,000 + 113 * 0.15 * 1,000,000 = 105,855,000\n",
    "\n",
    "Expected economic cost per patient: = 105,855,000 / 1,098 $\\approx$ 96,407 dollars."
   ]
  },
  {
   "cell_type": "markdown",
   "id": "af4bd853",
   "metadata": {},
   "source": [
    "**a) vi)**\n",
    "\n",
    "**Simple Baseline Model**"
   ]
  },
  {
   "cell_type": "code",
   "execution_count": 8,
   "id": "48207790",
   "metadata": {
    "scrolled": true
   },
   "outputs": [
    {
     "name": "stdout",
     "output_type": "stream",
     "text": [
      "True Negatives: 938\n",
      "False Negatives: 160\n",
      "The accuracy of the baseline model on the test data is 0.8543\n",
      "The True Positive Rate of the baseline model on the test data is 0 and the False Positive Rate of the baseline model on the test data is 0\n"
     ]
    }
   ],
   "source": [
    "# Accuracy of the baseline model on the test data:\n",
    "heart_false_test = np.sum(heart_test['TenYearCHD'] == 0)\n",
    "print('True Negatives:', heart_false_test)\n",
    "heart_true_test = np.sum(heart_test['TenYearCHD'] == 1)\n",
    "print('False Negatives:', heart_true_test)\n",
    "ACC_test = heart_false_test / (heart_false_test + heart_true_test)\n",
    "print('The accuracy of the baseline model on the test data is', round(ACC_test,4))\n",
    "\n",
    "# TPR and FPR rates of the baseline model on the test data\n",
    "\n",
    "TPR = 0                        # TPR = TP/P = TP/(TP+FN)\n",
    "FPR = 0                        # FPR = FP/N = FP/(FP+TN)\n",
    "print('The True Positive Rate of the baseline model on the test data is', TPR, 'and the False Positive Rate of the baseline model on the test data is', FPR)"
   ]
  },
  {
   "cell_type": "markdown",
   "id": "35663c7e",
   "metadata": {},
   "source": [
    "Total cost: 938 * 0 + 160 * 900,000 = 144,000,000\n",
    "\n",
    "Expected economic cost per patient: = 144,000,000 / 1,098 $\\approx$ 131,148 dollars."
   ]
  },
  {
   "cell_type": "markdown",
   "id": "74bdd357",
   "metadata": {},
   "source": [
    "**a) vii)**"
   ]
  },
  {
   "cell_type": "markdown",
   "id": "dae6f550",
   "metadata": {},
   "source": [
    "$f(x) = \\frac{1}{1+e^{-(-9.0826-0.1220*0-0.0870*0+0.0519*0+0.4217*1+0.0711*52+0.1506*1+0.0250*4+0.2873*0+0.7975*0+0.2215*0-0.0481*1+0.0028*180+0.0092*120+0.0077*90+0.0058*26-0.0042*70+0.0082*100)}}$ is approximately 0.14, which is greater than $\\hat{p}$ at $\\frac{100}{765}$. Therefore, the physician should prescribe the preventive medication for this patient."
   ]
  },
  {
   "cell_type": "markdown",
   "id": "64dcb930",
   "metadata": {},
   "source": [
    "**b)**\n",
    "\n",
    "**ROC curve on the test set**"
   ]
  },
  {
   "cell_type": "code",
   "execution_count": 9,
   "id": "42dc9486",
   "metadata": {
    "scrolled": false
   },
   "outputs": [
    {
     "data": {
      "image/png": "[encoded data removed]",
      "text/plain": [
       "<Figure size 800x600 with 1 Axes>"
      ]
     },
     "metadata": {},
     "output_type": "display_data"
    }
   ],
   "source": [
    "fpr, tpr, _ = roc_curve(y_test, y_prob)\n",
    "roc_auc = auc(fpr, tpr)\n",
    "\n",
    "plt.figure(figsize=(8, 6))\n",
    "plt.title('ROC Curve', fontsize=18)\n",
    "plt.xlabel('FPR', fontsize=16)\n",
    "plt.ylabel('TPR', fontsize=16)\n",
    "plt.xlim([-0.01, 1.00])\n",
    "plt.ylim([-0.01, 1.01])\n",
    "plt.plot(fpr, tpr, lw=3, label='Logistic Regression (area = {:0.2f})'.format(roc_auc))\n",
    "plt.plot([0, 1], [0, 1], color='navy', lw=3, linestyle='--', label='Naive Baseline (area = 0.50)')\n",
    "plt.legend(loc='lower right', fontsize=14)\n",
    "plt.show()"
   ]
  },
  {
   "cell_type": "markdown",
   "id": "1cb7b98d",
   "metadata": {},
   "source": [
    "TFP and FPR have a tradeoff, i,e., a higher TPR will lead to a higher FPR, but the ideal goal is to achive a high TRP and a low FPR simultaneously. \n",
    "\n",
    "ROC curve is very steep when FPR is smaller than 0.3, meaning that TPR could be increased from 0.0 to 0.7 while FPR is only increased from 0.0 to 0.3, i.e., a small decrease in the high threshold value will lead to a larger improvement in the model.\n",
    "\n",
    "In the future, if there is another medication that has the same level of effectiveness as the current one but much lower costs, decision-makers could consider lower the threshold further more to achieve a higher TPR while maintaining financial viablility for patients.\n",
    "\n",
    "The AUC for the model on the test set is 0.71."
   ]
  },
  {
   "cell_type": "markdown",
   "id": "2b20ff85",
   "metadata": {},
   "source": [
    "**c)**"
   ]
  },
  {
   "cell_type": "markdown",
   "id": "16259508",
   "metadata": {},
   "source": [
    "With the new setup, we are assuming that a patient already has insurnace. Therefore, if a patient didn't get medication and got CHD, the cost should be $600,000$ for decreased life quality. If a patient got medication and got CHD, the total cost should be $600,000+C$. If a patient got medication and did not get CHD, the total cost should be $C$.\n",
    "\n",
    "To be consistent with the previouly examnined \"optimal strategy\", p should be 100/765. The co-payment $C$ should the amount such that the expected cost given prescription is equal to the expected cost given no prescription.\n",
    "$$E[cost|prescription] = (600,000+C) * 0.15p + C * (1-0.15p) = 90,000p + C$$\n",
    "$$E[cost|no prescription] = 600,000p + 0 * (1-p) = 600,000p$$\n",
    "$$E[cost|prescription] = E[cost|no prescription]$$\n",
    "$$90,000p + C = 600,000p$$\n",
    "$$C = 510,000p$$\n",
    "$$C \\approx 66,667$$\n",
    "Therefore, given the health economic analysis, the insurance company should charge 66,667 dollars as the co-payment for the medication. "
   ]
  },
  {
   "cell_type": "markdown",
   "id": "e59086ef",
   "metadata": {},
   "source": [
    "**d)**"
   ]
  },
  {
   "cell_type": "markdown",
   "id": "fbc57014",
   "metadata": {},
   "source": [
    "The analysis was based on the expected losses between prescribing medication and not presribing medication. The work from the colleague on health economics evaluation could be compeletely wrong, meaning that patients see different values in longevity and health benefits, resulting in various monetized values. Addtionally, prescribing medication to patients with probabilities of having CHD in ten years higher than the predetermined threshold can be deemed as unethical in that it can be seemed as medication are only provided to patients who potentially benefit more from it. This kind of decision-making process also completely ignores the patients' willingness for treatment, i,e., patients predicted with lower probabilities of getting CHD are eager to have proactive treatment and mediaction to prevent the disease.  \n",
    "\n",
    "To address such concerns, the threshold $\\hat{p}$ can be lowered to include patients who have lower probabilities of developing CHD although it would be financially costly."
   ]
  }
 ],
 "metadata": {
  "kernelspec": {
   "display_name": "Python 3 (ipykernel)",
   "language": "python",
   "name": "python3"
  },
  "language_info": {
   "codemirror_mode": {
    "name": "ipython",
    "version": 3
   },
   "file_extension": ".py",
   "mimetype": "text/x-python",
   "name": "python",
   "nbconvert_exporter": "python",
   "pygments_lexer": "ipython3",
   "version": "3.11.4"
  }
 },
 "nbformat": 4,
 "nbformat_minor": 5
}
